{
 "cells": [
  {
   "cell_type": "code",
   "execution_count": 1,
   "id": "765f14f1",
   "metadata": {},
   "outputs": [],
   "source": [
    "WAV_FILE = \"test_audio/mom.wav\""
   ]
  },
  {
   "cell_type": "code",
   "execution_count": 2,
   "id": "5345ebee",
   "metadata": {},
   "outputs": [],
   "source": [
    "def transcribe_audio_debug(audio_path: str) -> str:\n",
    "    import whisper\n",
    "    model = whisper.load_model(\"base\")\n",
    "\n",
    "    try:\n",
    "        result = model.transcribe(audio_path)\n",
    "        print(\"🔍 Whisper raw result:\", result)\n",
    "        return result.get(\"text\", \"\").strip() or \"[인식 실패]\"\n",
    "    except Exception as e:\n",
    "        print(f\"[ERROR] Whisper STT 실패: {e}\")\n",
    "        return \"[인식 실패]\"\n"
   ]
  },
  {
   "cell_type": "code",
   "execution_count": 3,
   "id": "afeb2ab3",
   "metadata": {},
   "outputs": [
    {
     "name": "stderr",
     "output_type": "stream",
     "text": [
      "c:\\Users\\user\\miniconda3\\envs\\ws-env\\lib\\site-packages\\whisper\\transcribe.py:126: UserWarning: FP16 is not supported on CPU; using FP32 instead\n",
      "  warnings.warn(\"FP16 is not supported on CPU; using FP32 instead\")\n"
     ]
    },
    {
     "name": "stdout",
     "output_type": "stream",
     "text": [
      "🔍 Whisper raw result: {'text': ' 아이고 우리 아들 딸 해운데도 좋지만 밤의 반짝이는 보석 같은 달이가 보이는 곳은 어떨까? 엄마는 거기서 사진 찍으면 너무 예쁘게 나오더라.', 'segments': [{'id': 0, 'seek': 0, 'start': 0.0, 'end': 7.6000000000000005, 'text': ' 아이고 우리 아들 딸 해운데도 좋지만 밤의 반짝이는 보석 같은 달이가 보이는 곳은 어떨까?', 'tokens': [50364, 2216, 18960, 8126, 9200, 2403, 7378, 116, 7960, 248, 1327, 235, 41931, 5008, 9231, 38093, 2785, 16396, 28624, 20813, 7842, 226, 251, 10005, 21166, 19556, 47793, 25177, 2124, 7768, 101, 3294, 30, 50744], 'temperature': 0.0, 'avg_logprob': -0.3037453269958496, 'compression_ratio': 1.1949685534591195, 'no_speech_prob': 0.0020659223664551973}, {'id': 1, 'seek': 0, 'start': 7.6000000000000005, 'end': 11.76, 'text': ' 엄마는 거기서 사진 찍으면 너무 예쁘게 나오더라.', 'tokens': [50744, 23747, 1098, 25191, 2393, 29899, 17285, 10819, 6924, 28424, 1810, 49397, 39898, 13, 50952], 'temperature': 0.0, 'avg_logprob': -0.3037453269958496, 'compression_ratio': 1.1949685534591195, 'no_speech_prob': 0.0020659223664551973}], 'language': 'ko'}\n"
     ]
    },
    {
     "data": {
      "text/plain": [
       "'아이고 우리 아들 딸 해운데도 좋지만 밤의 반짝이는 보석 같은 달이가 보이는 곳은 어떨까? 엄마는 거기서 사진 찍으면 너무 예쁘게 나오더라.'"
      ]
     },
     "execution_count": 3,
     "metadata": {},
     "output_type": "execute_result"
    }
   ],
   "source": [
    "transcribe_audio_debug(WAV_FILE)"
   ]
  },
  {
   "cell_type": "code",
   "execution_count": null,
   "id": "d46ca98c",
   "metadata": {},
   "outputs": [],
   "source": []
  }
 ],
 "metadata": {
  "kernelspec": {
   "display_name": "ws-env",
   "language": "python",
   "name": "python3"
  },
  "language_info": {
   "codemirror_mode": {
    "name": "ipython",
    "version": 3
   },
   "file_extension": ".py",
   "mimetype": "text/x-python",
   "name": "python",
   "nbconvert_exporter": "python",
   "pygments_lexer": "ipython3",
   "version": "3.10.16"
  }
 },
 "nbformat": 4,
 "nbformat_minor": 5
}
